{
 "cells": [
  {
   "cell_type": "code",
   "execution_count": 14,
   "metadata": {},
   "outputs": [],
   "source": [
    "class Myclass1:\n",
    "    class_variable = \"I am a class variable\"\n",
    "\n",
    "\n",
    "    def __init__(self, value):\n",
    "        self.instance_variable = value\n",
    "        \n",
    "    def instance_method(self):\n",
    "        print(f\"Instance Method: {self.instance_variable}\")\n",
    "        print(f\"Accessing class variable from Instance Method: {self.class_variable}\")\n",
    "\n",
    "\n",
    "    @classmethod\n",
    "    def class_method(cls):\n",
    "        print(f\"Class Method: {cls.class_variable}\")        "
   ]
  },
  {
   "cell_type": "code",
   "execution_count": 15,
   "metadata": {},
   "outputs": [],
   "source": [
    "# Creating instance or Object of the class\n",
    "obj = Myclass1(\"Hello\")"
   ]
  },
  {
   "cell_type": "code",
   "execution_count": 16,
   "metadata": {},
   "outputs": [
    {
     "name": "stdout",
     "output_type": "stream",
     "text": [
      "Instance Method: Hello\n",
      "Accessing class variable from Instance Method: I am a class variable\n"
     ]
    }
   ],
   "source": [
    "# Accessing the instance Method\n",
    "obj.instance_method()"
   ]
  },
  {
   "cell_type": "code",
   "execution_count": 17,
   "metadata": {},
   "outputs": [
    {
     "name": "stdout",
     "output_type": "stream",
     "text": [
      "Class Method: I am a class variable\n"
     ]
    }
   ],
   "source": [
    "# Accessing Class Method\n",
    "Myclass1.class_method()"
   ]
  },
  {
   "cell_type": "code",
   "execution_count": 18,
   "metadata": {},
   "outputs": [
    {
     "name": "stdout",
     "output_type": "stream",
     "text": [
      "Class Method: I am a class variable\n"
     ]
    }
   ],
   "source": [
    "obj.class_method()"
   ]
  },
  {
   "cell_type": "code",
   "execution_count": 19,
   "metadata": {},
   "outputs": [],
   "source": [
    "class Myclass2:\n",
    "    total_instances = 0\n",
    "\n",
    "    def __init__(self, data):\n",
    "        self.data = data\n",
    "        Myclass2.total_instances += 1\n",
    "\n",
    "\n",
    "    @classmethod\n",
    "    def show_total_instances(cls):\n",
    "        print(f\"Total instances created: {cls.total_instances}\")\n",
    "\n",
    "\n",
    "    def show_instance_data(self):\n",
    "        print(f\"Instance data: {self.data}\")        "
   ]
  },
  {
   "cell_type": "code",
   "execution_count": 20,
   "metadata": {},
   "outputs": [],
   "source": [
    "obj1 = Myclass2(\"Instance 1\")\n",
    "obj2 = Myclass2(\"Instance 2\")"
   ]
  },
  {
   "cell_type": "code",
   "execution_count": 21,
   "metadata": {},
   "outputs": [
    {
     "name": "stdout",
     "output_type": "stream",
     "text": [
      "Instance data: Instance 1\n",
      "Instance data: Instance 2\n"
     ]
    }
   ],
   "source": [
    "obj1.show_instance_data()\n",
    "obj2.show_instance_data()"
   ]
  },
  {
   "cell_type": "code",
   "execution_count": 22,
   "metadata": {},
   "outputs": [
    {
     "name": "stdout",
     "output_type": "stream",
     "text": [
      "Total instances created: 2\n"
     ]
    }
   ],
   "source": [
    "Myclass2.show_total_instances()"
   ]
  },
  {
   "cell_type": "code",
   "execution_count": 32,
   "metadata": {},
   "outputs": [],
   "source": [
    "class MathUtils:\n",
    "    total_Operations = 0\n",
    "    \n",
    "    \n",
    "    def __init__(self, value):\n",
    "        self.value = value\n",
    "\n",
    "\n",
    "    @staticmethod\n",
    "    def add(x, y):\n",
    "        MathUtils.total_Operations += 1\n",
    "        return x + y\n",
    "\n",
    "\n",
    "    @classmethod\n",
    "    def increment_total_operations(cls):\n",
    "        cls.total_Operations += 1\n",
    "\n",
    "\n",
    "    def square(self):\n",
    "        return self.value ** 2\n",
    "    \n"
   ]
  },
  {
   "cell_type": "code",
   "execution_count": 33,
   "metadata": {},
   "outputs": [],
   "source": [
    "util1 = MathUtils(5)\n",
    "util2 = MathUtils(10)"
   ]
  },
  {
   "cell_type": "code",
   "execution_count": 34,
   "metadata": {},
   "outputs": [
    {
     "name": "stdout",
     "output_type": "stream",
     "text": [
      "48\n"
     ]
    }
   ],
   "source": [
    "print(MathUtils.add(12, 36))"
   ]
  },
  {
   "cell_type": "code",
   "execution_count": 36,
   "metadata": {},
   "outputs": [
    {
     "name": "stdout",
     "output_type": "stream",
     "text": [
      "Total operations count: 3\n"
     ]
    }
   ],
   "source": [
    "MathUtils.increment_total_operations()\n",
    "print(\"Total operations count:\", MathUtils.total_Operations)"
   ]
  },
  {
   "cell_type": "code",
   "execution_count": 37,
   "metadata": {},
   "outputs": [
    {
     "name": "stdout",
     "output_type": "stream",
     "text": [
      "25\n"
     ]
    }
   ],
   "source": [
    "print(util1.square())"
   ]
  },
  {
   "cell_type": "code",
   "execution_count": 38,
   "metadata": {},
   "outputs": [
    {
     "name": "stdout",
     "output_type": "stream",
     "text": [
      "100\n"
     ]
    }
   ],
   "source": [
    "print(util2.square())"
   ]
  },
  {
   "cell_type": "code",
   "execution_count": 39,
   "metadata": {},
   "outputs": [
    {
     "name": "stdout",
     "output_type": "stream",
     "text": [
      "3\n"
     ]
    }
   ],
   "source": [
    "print(MathUtils.total_Operations)"
   ]
  },
  {
   "cell_type": "markdown",
   "metadata": {},
   "source": [
    "# Static Method is method that belongs to a class rather than an instance of the class\n",
    "# It is defined using @staticmethod decorator\n",
    "# Static methods do not have access to the instance or class itself\n",
    "# They are independent of the class state\n",
    "# They cannot modify or access class or instance specific attributes directly\n",
    "\n",
    "VS  \n",
    "\n",
    "#A class method is a method that takes the class itself as its first argument, usually named class\n",
    "# It is defined using @classmethod decorator\n",
    "# Class level have access to the class and can modify class-level attributes\n",
    "# class methods can also be called on the class itself or on an instance of the class"
   ]
  },
  {
   "cell_type": "code",
   "execution_count": null,
   "metadata": {},
   "outputs": [],
   "source": []
  }
 ],
 "metadata": {
  "kernelspec": {
   "display_name": "Python 3",
   "language": "python",
   "name": "python3"
  },
  "language_info": {
   "codemirror_mode": {
    "name": "ipython",
    "version": 3
   },
   "file_extension": ".py",
   "mimetype": "text/x-python",
   "name": "python",
   "nbconvert_exporter": "python",
   "pygments_lexer": "ipython3",
   "version": "3.11.3"
  }
 },
 "nbformat": 4,
 "nbformat_minor": 2
}
